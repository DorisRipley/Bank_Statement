{
 "cells": [
  {
   "cell_type": "markdown",
   "id": "5d8acf48",
   "metadata": {},
   "source": [
    "# Personal Finances Summary Dashboard"
   ]
  },
  {
   "cell_type": "markdown",
   "id": "d6166f63",
   "metadata": {},
   "source": [
    "This project was developed to gain a deeper understanding of my spending habits and financial trends. By leveraging my own bank statements, I used pandas and numpy for advanced data manipulation and Google Drive API for seamless data importation. I meticulously categorized and analyzed transactions, employing interactive and informative visualizations to shed light on spending patterns. This endeavor stands as a testament to the practical application of data science methodologies in fostering financial literacy and enabling more informed financial decision-making."
   ]
  },
  {
   "cell_type": "markdown",
   "id": "eee4b385",
   "metadata": {},
   "source": [
    "## Import packages\n"
   ]
  },
  {
   "cell_type": "code",
   "execution_count": null,
   "id": "b21eb42f",
   "metadata": {},
   "outputs": [],
   "source": [
    "#required for manipulating data\n",
    "import pandas as pd\n",
    "import numpy as np \n",
    "\n",
    "#enable Google Drive API\n",
    "import gspread\n",
    "\n",
    "#required for building the interactive dashboard\n",
    "import panel as pn\n",
    "pn.extension('tabulator')\n",
    "import hvplot.pandas\n",
    "import holoviews as hv\n",
    "hv.extension('bokeh')"
   ]
  },
  {
   "cell_type": "markdown",
   "id": "3956cd65",
   "metadata": {},
   "source": [
    "## Connect to the bank data using Google drive API and clean up  transactions"
   ]
  },
  {
   "cell_type": "code",
   "execution_count": null,
   "id": "498396fa",
   "metadata": {
    "scrolled": true
   },
   "outputs": [],
   "source": [
    "#connect to Google Drive\n",
    "#Importante note: move json file to project directory and rename it \"service_account.json\"\n",
    "\n",
    "gc = gspread.service_account(filename=\"service_account.json\")\n",
    "sh = gc.open(\"bank of america\")\n",
    "\n",
    "\n",
    "ws = sh.worksheet('bank of america')\n",
    "df = pd.DataFrame(ws.get_all_records())\n",
    "df.head()\n"
   ]
  },
  {
   "cell_type": "markdown",
   "id": "22584d1f-66c9-41c9-be6d-3652d6ecff20",
   "metadata": {},
   "source": [
    "## Data cleaning"
   ]
  },
  {
   "cell_type": "code",
   "execution_count": null,
   "id": "3917996d",
   "metadata": {},
   "outputs": [],
   "source": [
    "df = df[['Date', 'Description', 'Amount']] #keep only desired columns\n",
    "df['Description'] = df['Description'].map(str.lower) #lower case of descriptions\n",
    "df['Category'] = 'unassigned'                        #add category column\n",
    "\n",
    "df.head()"
   ]
  },
  {
   "cell_type": "code",
   "execution_count": null,
   "id": "d1df03b2",
   "metadata": {},
   "outputs": [],
   "source": [
    "df = df.drop(0) # Drop the first row from the DataFrame\n",
    "df.head()"
   ]
  },
  {
   "cell_type": "markdown",
   "id": "8391ca65-d7f4-4eae-9cb5-c71d67272359",
   "metadata": {},
   "source": [
    "## Defining all categories\n",
    "\n",
    "From my bank statetment the I defined the following categories:\n",
    "\n",
    "* Pet\n",
    "* Groceries\n",
    "* Restaurants\n",
    "* Entertainment\n",
    "* Services\n",
    "* Online Shopping\n",
    "* Coffee\n",
    "* Transport\n",
    "* Excluded\n",
    "* Selfcare\n",
    "* Shopping\n",
    "  "
   ]
  },
  {
   "cell_type": "markdown",
   "id": "b282c21c-0788-462d-8a3d-823452b40705",
   "metadata": {},
   "source": [
    "# Assign transactions to the correct category"
   ]
  },
  {
   "cell_type": "code",
   "execution_count": null,
   "id": "a28fed8c-918a-431d-822e-7896a67b9c49",
   "metadata": {},
   "outputs": [],
   "source": [
    "\n",
    "\n",
    "# Pet\n",
    "\n",
    "df['Category'] = np.where(df['Description'].str.contains(\n",
    "    'petsmart|vet|clt vet'), \n",
    "    'Pet', df['Category'] )\n",
    "    \n",
    "# Groceries\n",
    "\n",
    "df['Category'] = np.where(df['Description'].str.contains(\n",
    "    'harris teeter|costco whse|wal wal-mart|wal-mart|food lion|wm supercenter|trader joe|harris te 4701'), \n",
    "    'Groceries', df['Category'] )\n",
    "    \n",
    "# Restaurants\n",
    "\n",
    "df['Category'] = np.where(df['Description'].str.contains(\n",
    "    'jersey mikes|inizio|taco bell|good wurst|macalisters |jack in the box|macdonalds|rincon latino|bojangles|bp|soul foo|cook out|kfc|freddy|sonic|olive garden|chick-fil-a|lada'), \n",
    "    'Restaurants', df['Category'] )\n",
    "\n",
    "# Entertainment\n",
    "    \n",
    "df['Category'] = np.where(df['Description'].str.contains(\n",
    "    'prime video|nintendo|us national whitewater|national whitewa|charlotte pride '), \n",
    "    'Entertainment', df['Category'] )\n",
    "\n",
    "# Services\n",
    "    \n",
    "df['Category'] = np.where(df['Description'].str.contains(\n",
    "    'apple|onstar|mecklenburg ab|vzwrlss|endurance fcu|dukeenergy|at&t|geico'), \n",
    "    'Services', df['Category'] )  \n",
    "\n",
    "# Online Shopping\n",
    "    \n",
    "df['Category'] = np.where(df['Description'].str.contains(\n",
    "    'amzn mktp us|amazon'), \n",
    "    'Online Shopping', df['Category'] )\n",
    "    \n",
    "\n",
    "# Coffee\n",
    "\n",
    "df['Category'] = np.where(df['Description'].str.contains(\n",
    "    'starbucks'), \n",
    "    'Coffee', df['Category'] )\n",
    "\n",
    "# Transport\n",
    "    \n",
    "df['Category'] = np.where(df['Description'].str.contains(\n",
    "    'uber|shell service|shell oil'), \n",
    "    'Transport', df['Category'] )\n",
    "\n",
    "# Excluded\n",
    "    \n",
    "df['Category'] = np.where(df['Description'].str.contains(\n",
    "    'keep the change|banking transfer|corning incorpor|corning|starnow|refund|giffgaff|backstage|hectagon|tower hamlets bc|sweet suites|temporary hold|cm.com'), \n",
    "    'Excluded', df['Category'] )\n",
    "\n",
    "# Selfcare\n",
    "    \n",
    "df['Category'] = np.where(df['Description'].str.contains(\n",
    "    'the cut barbershop'), \n",
    "    'Selfcare', df['Category'] )\n",
    "\n",
    "# Shopping\n",
    "    \n",
    "df['Category'] = np.where(df['Description'].str.contains(\n",
    "    'target|kohls|sp new york filthy'), \n",
    "    'Shopping', df['Category'] )\n",
    "    \n"
   ]
  },
  {
   "cell_type": "code",
   "execution_count": null,
   "id": "ef0c58d1-a1da-4547-a6d3-59c731555737",
   "metadata": {},
   "outputs": [],
   "source": [
    "# Convert the \"Date\" column to a datetime format\n",
    "df['Date'] = pd.to_datetime(df['Date'])\n",
    "\n",
    "# Extract the month and year information\n",
    "df['Month'] = df['Date'].dt.month\n",
    "df['Year'] = df['Date'].dt.year\n",
    "    \n",
    "pd.options.display.max_rows = 999\n",
    "df.head(200)"
   ]
  },
  {
   "cell_type": "code",
   "execution_count": null,
   "id": "e66c30db-7fef-4f2b-bb9a-d76f5806a949",
   "metadata": {},
   "outputs": [],
   "source": [
    "# Extract the month and year information\n",
    "df['Month'] = df['Date'].dt.month\n",
    "df['Year'] = df['Date'].dt.year\n",
    "    \n",
    "pd.options.display.max_rows = 999\n",
    "df.head(200)"
   ]
  },
  {
   "cell_type": "code",
   "execution_count": null,
   "id": "0378d260-15cb-48fa-9b96-b140c08c45df",
   "metadata": {},
   "outputs": [],
   "source": [
    "#check unassigned transactions and confirm all transactions are assigned to a category\n",
    "\n",
    "unassigned = df.loc[df['Category'] == 'unassigned']\n",
    "unassigned"
   ]
  },
  {
   "cell_type": "markdown",
   "id": "2ae60c07-4dce-4c85-aa8f-3d3ee589cba9",
   "metadata": {},
   "source": [
    "## Create Top Banner for a summary of last month's income, recurring expenses, non-recurring expenses and savings"
   ]
  },
  {
   "cell_type": "code",
   "execution_count": null,
   "id": "1e67e582-cf38-4982-b26e-3d1b03fd35fb",
   "metadata": {},
   "outputs": [],
   "source": [
    "# Get the latest month and year\n",
    "latest_month = df['Month'].max()\n",
    "latest_year = df['Year'].max()"
   ]
  },
  {
   "cell_type": "code",
   "execution_count": null,
   "id": "79bb9d53-9f2d-4e72-adb0-bbb0d88a69e2",
   "metadata": {},
   "outputs": [],
   "source": [
    "#Filter the dataframe to include only transactions from the latest month\n",
    "last_month_expenses = df[(df['Month'] == latest_month) & (df['Year'] == latest_year)]\n"
   ]
  },
  {
   "cell_type": "code",
   "execution_count": null,
   "id": "ed73f0b5-061a-4bfc-918c-c4b39af383cd",
   "metadata": {},
   "outputs": [],
   "source": [
    "last_month_expenses = last_month_expenses.groupby('Category')['Amount'].sum().reset_index()\n",
    "\n",
    "last_month_expenses['Amount']=last_month_expenses['Amount'].astype('str')\n",
    "last_month_expenses['Amount']=last_month_expenses['Amount'].str.replace('-','')\n",
    "last_month_expenses['Amount']=last_month_expenses['Amount'].astype('float')        #get absolute figures\n",
    "\n",
    "last_month_expenses = last_month_expenses[last_month_expenses[\"Category\"].str.contains(\"Excluded|unassigned\") == False]    #exclude \"excluded\" category\n",
    "last_month_expenses = last_month_expenses.sort_values(by='Amount', ascending=False)    #sort values\n",
    "last_month_expenses['Amount'] = last_month_expenses['Amount'].round().astype(int)      #round values\n",
    "\n",
    "last_month_expenses"
   ]
  },
  {
   "cell_type": "code",
   "execution_count": null,
   "id": "dd2b0872-52ce-4bfd-81b1-da5143d46b39",
   "metadata": {},
   "outputs": [],
   "source": [
    "last_month_expenses_tot = last_month_expenses['Amount'].sum()\n",
    "last_month_expenses_tot\n",
    "\n"
   ]
  },
  {
   "cell_type": "code",
   "execution_count": null,
   "id": "9dc4117a-9df9-4aee-8b35-9c9ac077af23",
   "metadata": {},
   "outputs": [],
   "source": [
    "def calculate_difference(event):\n",
    "    income = float(income_widget.value)\n",
    "    recurring_expenses = float(recurring_expenses_widget.value)\n",
    "    monthly_expenses = float(monthly_expenses_widget.value)\n",
    "    difference = income - recurring_expenses - monthly_expenses\n",
    "    difference_widget.value = str(difference)\n",
    "\n",
    "income_widget = pn.widgets.TextInput(name=\"Income\", value=\"0\")\n",
    "recurring_expenses_widget = pn.widgets.TextInput(name=\"Recurring Expenses\", value=\"0\")\n",
    "monthly_expenses_widget = pn.widgets.TextInput(name=\"Non-Recurring Expenses\", value=str(last_month_expenses_tot))\n",
    "difference_widget = pn.widgets.TextInput(name=\"Last Month's Savings\", value=\"0\")\n",
    "\n",
    "income_widget.param.watch(calculate_difference, \"value\")\n",
    "recurring_expenses_widget.param.watch(calculate_difference, \"value\")\n",
    "monthly_expenses_widget.param.watch(calculate_difference, \"value\")\n",
    "\n",
    "#pn.Row(income_widget, recurring_expenses_widget, monthly_expenses_widget, difference_widget).show()\n"
   ]
  },
  {
   "cell_type": "markdown",
   "id": "ec4b373b-160d-4bb6-8216-af7cc093aa9c",
   "metadata": {},
   "source": [
    "## Creating last month expenses bar chart "
   ]
  },
  {
   "cell_type": "code",
   "execution_count": null,
   "id": "56a197fb-65b1-4c42-80bd-6f1759755411",
   "metadata": {},
   "outputs": [],
   "source": [
    "last_month_expenses_chart = last_month_expenses.hvplot.bar(\n",
    "    x='Category', \n",
    "    y='Amount', \n",
    "    height=250, \n",
    "    width=850, \n",
    "    title=\"Last Month Expenses\",\n",
    "    ylim=(0, 500))\n",
    "\n",
    "last_month_expenses_chart\n"
   ]
  },
  {
   "cell_type": "markdown",
   "id": "49a2c2ae-6150-4841-832b-383520777f29",
   "metadata": {},
   "source": [
    "## Creating monthly expenses trend bar chart "
   ]
  },
  {
   "cell_type": "code",
   "execution_count": null,
   "id": "5c1a00a2-a92e-4b87-8ebd-ed8a9975fbec",
   "metadata": {},
   "outputs": [],
   "source": [
    "df['Date'] = pd.to_datetime(df['Date'])            # convert the 'Date' column to a datetime object\n",
    "df['Month-Year'] = df['Date'].dt.to_period('M')    # extract the month and year from the 'Date' column and create a new column 'Month-Year'\n",
    "monthly_expenses_trend_by_cat = df.groupby(['Month-Year', 'Category'])['Amount'].sum().reset_index()\n",
    "\n",
    "monthly_expenses_trend_by_cat['Amount']=monthly_expenses_trend_by_cat['Amount'].astype('str')\n",
    "monthly_expenses_trend_by_cat['Amount']=monthly_expenses_trend_by_cat['Amount'].str.replace('-','')\n",
    "monthly_expenses_trend_by_cat['Amount']=monthly_expenses_trend_by_cat['Amount'].astype('float')\n",
    "monthly_expenses_trend_by_cat = monthly_expenses_trend_by_cat[monthly_expenses_trend_by_cat[\"Category\"].str.contains(\"Excluded\") == False]\n",
    "\n",
    "monthly_expenses_trend_by_cat = monthly_expenses_trend_by_cat.sort_values(by='Amount', ascending=False)\n",
    "monthly_expenses_trend_by_cat['Amount'] = monthly_expenses_trend_by_cat['Amount'].round().astype(int)\n",
    "monthly_expenses_trend_by_cat['Month-Year'] = monthly_expenses_trend_by_cat['Month-Year'].astype(str)\n",
    "monthly_expenses_trend_by_cat = monthly_expenses_trend_by_cat.rename(columns={'Amount': 'Amount '})\n",
    "\n",
    "monthly_expenses_trend_by_cat"
   ]
  },
  {
   "cell_type": "markdown",
   "id": "ddba3d07-1b05-4193-b38e-d7b215e30263",
   "metadata": {},
   "source": [
    "## Defining Panel widget"
   ]
  },
  {
   "cell_type": "code",
   "execution_count": null,
   "id": "7250bcb9-7be0-4f58-b9ea-139646f1baa1",
   "metadata": {},
   "outputs": [],
   "source": [
    "select_category1 = pn.widgets.Select(name='Select Category', options=[\n",
    "    'All',\n",
    "    'Pet',\n",
    "    'Groceries',\n",
    "    'Restaurants',\n",
    "    'Entertainment',\n",
    "    'Services',\n",
    "    'Online Shopping',\n",
    "    'Coffee',\n",
    "    'Transport',\n",
    "    'Excluded',\n",
    "    'Selfcare',\n",
    "    'Shopping',\n",
    "    #'Excluded'\n",
    "   \n",
    "])\n",
    "\n",
    "select_category1\n"
   ]
  },
  {
   "cell_type": "code",
   "execution_count": null,
   "id": "b0161e7a-072c-425d-9b8f-4c5f16be2b27",
   "metadata": {},
   "outputs": [],
   "source": [
    "# define plot function\n",
    "def plot_expenses(category):\n",
    "    if category == 'All':\n",
    "        plot_df = monthly_expenses_trend_by_cat.groupby('Month-Year').sum()\n",
    "    else:\n",
    "        plot_df = monthly_expenses_trend_by_cat[monthly_expenses_trend_by_cat['Category'] == category].groupby('Month-Year').sum()\n",
    "    plot = plot_df.hvplot.bar(x='Month-Year', y='Amount ')\n",
    "    return plot\n",
    "\n",
    "# define callback function\n",
    "@pn.depends(select_category1.param.value)\n",
    "def update_plot(category):\n",
    "    plot = plot_expenses(category)\n",
    "    return plot\n",
    "\n",
    "# create layout\n",
    "monthly_expenses_trend_by_cat_chart = pn.Row(select_category1, update_plot)\n",
    "monthly_expenses_trend_by_cat_chart[1].width = 600\n",
    "\n",
    "monthly_expenses_trend_by_cat_chart"
   ]
  },
  {
   "cell_type": "markdown",
   "id": "ff1d9cc0-4518-451c-b67f-29779713e2d7",
   "metadata": {},
   "source": [
    "## Creating summary table"
   ]
  },
  {
   "cell_type": "code",
   "execution_count": null,
   "id": "59720848-3fc6-4f9b-8a48-68e33b55ffef",
   "metadata": {},
   "outputs": [],
   "source": [
    "df = df[['Date', 'Category', 'Description', 'Amount']]\n",
    "df['Amount']=df['Amount'].astype('str')\n",
    "df['Amount']=df['Amount'].str.replace('-','')\n",
    "df['Amount']=df['Amount'].astype('float')        #get absolute figures\n",
    "\n",
    "df = df[df[\"Category\"].str.contains(\"Excluded\") == False]    #exclude \"excluded\" category\n",
    "df['Amount'] = df['Amount'].round().astype(int)      #round values\n",
    "df\n",
    "\n"
   ]
  },
  {
   "cell_type": "code",
   "execution_count": null,
   "id": "a128beac-3dad-4f72-bc95-6d8525332b3b",
   "metadata": {},
   "outputs": [],
   "source": [
    "# Define a function to filter the dataframe based on the selected category\n",
    "def filter_df(category):\n",
    "    if category == 'All':\n",
    "        return df\n",
    "    return df[df['Category'] == category]\n"
   ]
  },
  {
   "cell_type": "code",
   "execution_count": null,
   "id": "4e75395f-48fd-408b-9ec6-f6fbf312259d",
   "metadata": {},
   "outputs": [],
   "source": [
    "# Create a DataFrame widget that updates based on the category filter\n",
    "summary_table = pn.widgets.DataFrame(filter_df('All'), height = 300,width=400)\n",
    "\n",
    "# Define a callback that updates the dataframe widget when the category filter is changed\n",
    "def update_summary_table(event):\n",
    "    summary_table.value = filter_df(event.new)\n",
    "\n",
    "# Add the callback function to the category widget\n",
    "select_category1.param.watch(update_summary_table, 'value')\n",
    "\n",
    "summary_table"
   ]
  },
  {
   "cell_type": "markdown",
   "id": "07c0d3f4-72c6-49df-9f97-2c4e5e4e88dd",
   "metadata": {},
   "source": [
    "## Create Final Dashboard"
   ]
  },
  {
   "cell_type": "code",
   "execution_count": null,
   "id": "1e142d4f-75e1-41c3-bbb3-aeed8d575cbe",
   "metadata": {},
   "outputs": [],
   "source": [
    "template = pn.template.FastListTemplate(\n",
    "    title=\"Personal Finances Summary\",\n",
    "    sidebar=[\n",
    "        pn.pane.Markdown(\"## *If you can't manage your money, making more won't help*\"),\n",
    "        pn.pane.JPG('bill.jpg', sizing_mode='scale_both'),\n",
    "        pn.pane.Markdown(\"\"),\n",
    "        pn.pane.Markdown(\"\"),\n",
    "        select_category1\n",
    "    ],\n",
    "    main=[\n",
    "        pn.Row(income_widget, recurring_expenses_widget, monthly_expenses_widget, difference_widget, width=950),\n",
    "        pn.Row(last_month_expenses_chart, height=240),\n",
    "        pn.GridBox(\n",
    "            monthly_expenses_trend_by_cat_chart[1],\n",
    "            summary_table,\n",
    "            ncols=2,\n",
    "            width=500,  \n",
    "            align='start',\n",
    "            sizing_mode='stretch_width'\n",
    "        )\n",
    "    ]\n",
    ")\n",
    "\n",
    "template.show()"
   ]
  },
  {
   "cell_type": "code",
   "execution_count": null,
   "id": "c94d8a8c-5b90-4591-8efe-8272954e254b",
   "metadata": {},
   "outputs": [],
   "source": []
  },
  {
   "cell_type": "code",
   "execution_count": null,
   "id": "c354e4dd-fe8c-4ef3-b3f5-948232f33eb1",
   "metadata": {},
   "outputs": [],
   "source": []
  }
 ],
 "metadata": {
  "kernelspec": {
   "display_name": "Python 3 (ipykernel)",
   "language": "python",
   "name": "python3"
  },
  "language_info": {
   "codemirror_mode": {
    "name": "ipython",
    "version": 3
   },
   "file_extension": ".py",
   "mimetype": "text/x-python",
   "name": "python",
   "nbconvert_exporter": "python",
   "pygments_lexer": "ipython3",
   "version": "3.9.13"
  }
 },
 "nbformat": 4,
 "nbformat_minor": 5
}
